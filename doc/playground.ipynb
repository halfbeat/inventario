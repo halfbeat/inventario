{
 "cells": [
  {
   "cell_type": "code",
   "execution_count": 1,
   "id": "438be32668ec6ec1",
   "metadata": {
    "ExecuteTime": {
     "end_time": "2024-12-21T10:25:53.572587Z",
     "start_time": "2024-12-21T10:25:53.562528Z"
    }
   },
   "outputs": [],
   "source": [
    "from app.authz.models import AplicacionModelDto\n",
    "from sqlalchemy import select, insert, update, delete\n",
    "import logging\n",
    "from app import create_app\n",
    "\n",
    "logging.basicConfig()\n",
    "logging.getLogger(\"sqlalchemy.engine\").setLevel(logging.WARN)\n",
    "logging.getLogger(\"sqlalchemy.pool\").setLevel(logging.WARN)\n",
    "\n",
    "APP_SETTINGS_MODULE=\"config.dev\"\n",
    "app = create_app(APP_SETTINGS_MODULE)"
   ]
  },
  {
   "cell_type": "code",
   "execution_count": 2,
   "id": "47eeb8bc",
   "metadata": {},
   "outputs": [
    {
     "name": "stderr",
     "output_type": "stream",
     "text": [
      "c:\\Users\\Angel\\proyectos\\authz2\\venv\\Lib\\site-packages\\flask_sqlalchemy\\model.py:22: SAWarning: relationship 'RolePermisoModelDto.rol' will copy column AUTHZ_ROLES.C_APLICACION_ID to column AUTHZ_ROLES_PERMISOS.C_APLICACION_ID, which conflicts with relationship(s): 'RolePermisoModelDto.permiso' (copies AUTHZ_PERMISOS.C_APLICACION_ID to AUTHZ_ROLES_PERMISOS.C_APLICACION_ID). If this is not the intention, consider if these relationships should be linked with back_populates, or if viewonly=True should be applied to one or more if they are read-only. For the less common case that foreign key constraints are partially overlapping, the orm.foreign() annotation can be used to isolate the columns that should be written towards.   To silence this warning, add the parameter 'overlaps=\"permiso\"' to the 'RolePermisoModelDto.rol' relationship. (Background on this warning at: https://sqlalche.me/e/20/qzyx) (This warning originated from the `configure_mappers()` process, which was invoked automatically in response to a user-initiated operation.)\n",
      "  return cls.query_class(\n"
     ]
    },
    {
     "ename": "Conflict",
     "evalue": "409 Conflict: La aplicación ya existe",
     "output_type": "error",
     "traceback": [
      "\u001b[1;31m---------------------------------------------------------------------------\u001b[0m",
      "\u001b[1;31mConflict\u001b[0m                                  Traceback (most recent call last)",
      "Cell \u001b[1;32mIn[2], line 3\u001b[0m\n\u001b[0;32m      1\u001b[0m \u001b[38;5;28;01mfrom\u001b[39;00m\u001b[38;5;250m \u001b[39m\u001b[38;5;21;01mapp\u001b[39;00m\u001b[38;5;21;01m.\u001b[39;00m\u001b[38;5;21;01mauthz\u001b[39;00m\u001b[38;5;21;01m.\u001b[39;00m\u001b[38;5;21;01mapi_v2_0\u001b[39;00m\u001b[38;5;21;01m.\u001b[39;00m\u001b[38;5;21;01mlogic\u001b[39;00m\u001b[38;5;250m \u001b[39m\u001b[38;5;28;01mimport\u001b[39;00m AplicacionService    \n\u001b[0;32m      2\u001b[0m \u001b[38;5;28;01mwith\u001b[39;00m app\u001b[38;5;241m.\u001b[39mapp_context():\n\u001b[1;32m----> 3\u001b[0m     \u001b[43mAplicacionService\u001b[49m\u001b[38;5;241;43m.\u001b[39;49m\u001b[43maltaAplicacion\u001b[49m\u001b[43m(\u001b[49m\u001b[43m{\u001b[49m\u001b[38;5;124;43m'\u001b[39;49m\u001b[38;5;124;43maplicacion_id\u001b[39;49m\u001b[38;5;124;43m'\u001b[39;49m\u001b[43m:\u001b[49m\u001b[38;5;124;43m'\u001b[39;49m\u001b[38;5;124;43mPRUE\u001b[39;49m\u001b[38;5;124;43m'\u001b[39;49m\u001b[43m,\u001b[49m\u001b[43m \u001b[49m\u001b[38;5;124;43m'\u001b[39;49m\u001b[38;5;124;43mnombre\u001b[39;49m\u001b[38;5;124;43m'\u001b[39;49m\u001b[43m:\u001b[49m\u001b[38;5;124;43m'\u001b[39;49m\u001b[38;5;124;43mPrueba\u001b[39;49m\u001b[38;5;124;43m'\u001b[39;49m\u001b[43m}\u001b[49m\u001b[43m)\u001b[49m\n",
      "File \u001b[1;32mc:\\Users\\Angel\\proyectos\\authz2\\app\\authz\\api_v2_0\\logic.py:24\u001b[0m, in \u001b[0;36mAplicacionService.altaAplicacion\u001b[1;34m(aplicacion_json)\u001b[0m\n\u001b[0;32m     20\u001b[0m aplicacion_existente \u001b[38;5;241m=\u001b[39m AplicacionModelDto\u001b[38;5;241m.\u001b[39mget_by_id(\n\u001b[0;32m     21\u001b[0m     aplicacion_json[\u001b[38;5;124m\"\u001b[39m\u001b[38;5;124maplicacion_id\u001b[39m\u001b[38;5;124m\"\u001b[39m]\n\u001b[0;32m     22\u001b[0m )\n\u001b[0;32m     23\u001b[0m \u001b[38;5;28;01mif\u001b[39;00m aplicacion_existente:\n\u001b[1;32m---> 24\u001b[0m     \u001b[43mabort\u001b[49m\u001b[43m(\u001b[49m\u001b[38;5;241;43m409\u001b[39;49m\u001b[43m,\u001b[49m\u001b[43m \u001b[49m\u001b[38;5;124;43m\"\u001b[39;49m\u001b[38;5;124;43mLa aplicación ya existe\u001b[39;49m\u001b[38;5;124;43m\"\u001b[39;49m\u001b[43m)\u001b[49m\n\u001b[0;32m     25\u001b[0m aplicacion \u001b[38;5;241m=\u001b[39m AplicacionModelDto(\u001b[38;5;241m*\u001b[39m\u001b[38;5;241m*\u001b[39maplicacion_json)\n\u001b[0;32m     26\u001b[0m aplicacion\u001b[38;5;241m.\u001b[39msave()\n",
      "File \u001b[1;32mc:\\Users\\Angel\\proyectos\\authz2\\venv\\Lib\\site-packages\\flask\\helpers.py:284\u001b[0m, in \u001b[0;36mabort\u001b[1;34m(code, *args, **kwargs)\u001b[0m\n\u001b[0;32m    267\u001b[0m \u001b[38;5;250m\u001b[39m\u001b[38;5;124;03m\"\"\"Raise an :exc:`~werkzeug.exceptions.HTTPException` for the given\u001b[39;00m\n\u001b[0;32m    268\u001b[0m \u001b[38;5;124;03mstatus code.\u001b[39;00m\n\u001b[0;32m    269\u001b[0m \n\u001b[1;32m   (...)\u001b[0m\n\u001b[0;32m    281\u001b[0m \u001b[38;5;124;03m    using Werkzeug's default ``abort``.\u001b[39;00m\n\u001b[0;32m    282\u001b[0m \u001b[38;5;124;03m\"\"\"\u001b[39;00m\n\u001b[0;32m    283\u001b[0m \u001b[38;5;28;01mif\u001b[39;00m current_app:\n\u001b[1;32m--> 284\u001b[0m     \u001b[43mcurrent_app\u001b[49m\u001b[38;5;241;43m.\u001b[39;49m\u001b[43maborter\u001b[49m\u001b[43m(\u001b[49m\u001b[43mcode\u001b[49m\u001b[43m,\u001b[49m\u001b[43m \u001b[49m\u001b[38;5;241;43m*\u001b[39;49m\u001b[43margs\u001b[49m\u001b[43m,\u001b[49m\u001b[43m \u001b[49m\u001b[38;5;241;43m*\u001b[39;49m\u001b[38;5;241;43m*\u001b[39;49m\u001b[43mkwargs\u001b[49m\u001b[43m)\u001b[49m\n\u001b[0;32m    286\u001b[0m _wz_abort(code, \u001b[38;5;241m*\u001b[39margs, \u001b[38;5;241m*\u001b[39m\u001b[38;5;241m*\u001b[39mkwargs)\n",
      "File \u001b[1;32mc:\\Users\\Angel\\proyectos\\authz2\\venv\\Lib\\site-packages\\werkzeug\\exceptions.py:876\u001b[0m, in \u001b[0;36mAborter.__call__\u001b[1;34m(self, code, *args, **kwargs)\u001b[0m\n\u001b[0;32m    873\u001b[0m \u001b[38;5;28;01mif\u001b[39;00m code \u001b[38;5;129;01mnot\u001b[39;00m \u001b[38;5;129;01min\u001b[39;00m \u001b[38;5;28mself\u001b[39m\u001b[38;5;241m.\u001b[39mmapping:\n\u001b[0;32m    874\u001b[0m     \u001b[38;5;28;01mraise\u001b[39;00m \u001b[38;5;167;01mLookupError\u001b[39;00m(\u001b[38;5;124mf\u001b[39m\u001b[38;5;124m\"\u001b[39m\u001b[38;5;124mno exception for \u001b[39m\u001b[38;5;132;01m{\u001b[39;00mcode\u001b[38;5;132;01m!r}\u001b[39;00m\u001b[38;5;124m\"\u001b[39m)\n\u001b[1;32m--> 876\u001b[0m \u001b[38;5;28;01mraise\u001b[39;00m \u001b[38;5;28mself\u001b[39m\u001b[38;5;241m.\u001b[39mmapping[code](\u001b[38;5;241m*\u001b[39margs, \u001b[38;5;241m*\u001b[39m\u001b[38;5;241m*\u001b[39mkwargs)\n",
      "\u001b[1;31mConflict\u001b[0m: 409 Conflict: La aplicación ya existe"
     ]
    }
   ],
   "source": [
    "from app.authz.api_v2_0.logic import AplicacionService    \n",
    "with app.app_context():\n",
    "    AplicacionService.altaAplicacion({'aplicacion_id':'PRUE', 'nombre':'Prueba'})\n",
    "    "
   ]
  },
  {
   "cell_type": "code",
   "execution_count": 12,
   "id": "186dab3baf0a8237",
   "metadata": {
    "ExecuteTime": {
     "end_time": "2024-12-21T10:25:54.923615Z",
     "start_time": "2024-12-21T10:25:54.864313Z"
    }
   },
   "outputs": [
    {
     "name": "stdout",
     "output_type": "stream",
     "text": [
      "{'aplicacion_id': 'AUTHZ', 'nombre': 'Sistema de Autorización'}\n",
      "{'aplicacion_id': 'SAGD', 'nombre': 'Sistema de acceso a la gestión documental'}\n",
      "{'aplicacion_id': 'PERA', 'nombre': 'MELAPELA'}\n",
      "{'aplicacion_id': 'PERASI', 'nombre': 'MELAPELA'}\n",
      "{'aplicacion_id': 'PRUE', 'nombre': 'Prueba'}\n",
      "--------------------------------------------------------------------------------------------------------\n",
      "{'aplicacion_id': 'PRUE', 'nombre': 'Prueba'}\n"
     ]
    }
   ],
   "source": [
    "from app.authz.api_v2_0.logic import AplicacionService    \n",
    "with app.app_context():\n",
    "    aplicaciones = AplicacionService.get_aplicaciones(0, 100)[\"items\"]\n",
    "    for aplicacion in aplicaciones:\n",
    "        print(aplicacion)\n",
    "        \n",
    "    print(\"--------------------------------------------------------------------------------------------------------\")\n",
    "    print(AplicacionService.get_aplicacion('PRUE'))"
   ]
  },
  {
   "cell_type": "code",
   "execution_count": 8,
   "id": "8e262dc716054193",
   "metadata": {
    "ExecuteTime": {
     "end_time": "2024-12-21T10:25:55.057182Z",
     "start_time": "2024-12-21T10:25:55.051934Z"
    }
   },
   "outputs": [],
   "source": []
  }
 ],
 "metadata": {
  "kernelspec": {
   "display_name": "venv",
   "language": "python",
   "name": "python3"
  },
  "language_info": {
   "codemirror_mode": {
    "name": "ipython",
    "version": 3
   },
   "file_extension": ".py",
   "mimetype": "text/x-python",
   "name": "python",
   "nbconvert_exporter": "python",
   "pygments_lexer": "ipython3",
   "version": "3.13.0"
  }
 },
 "nbformat": 4,
 "nbformat_minor": 5
}
