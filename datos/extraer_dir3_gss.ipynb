{
 "cells": [
  {
   "cell_type": "code",
   "id": "initial_id",
   "metadata": {
    "collapsed": true,
    "ExecuteTime": {
     "end_time": "2025-03-27T16:28:13.025187Z",
     "start_time": "2025-03-27T16:28:13.018187Z"
    }
   },
   "source": "import pandas as pd",
   "outputs": [],
   "execution_count": 3
  },
  {
   "metadata": {
    "ExecuteTime": {
     "end_time": "2025-03-27T16:32:50.746322Z",
     "start_time": "2025-03-27T16:32:50.696189Z"
    }
   },
   "cell_type": "code",
   "source": [
    "unidades_dir3 = pd.read_csv('Listado Unidades CCAA.csv', encoding='utf-8', sep=\";\")\n",
    "unidades_dir3.head()"
   ],
   "id": "45cb9fefcda3a0c4",
   "outputs": [
    {
     "data": {
      "text/plain": [
       "  C_ID_UD_ORGANICA                                  C_DNM_UD_ORGANICA  \\\n",
       "0        A01002820                                 Junta de Andalucía   \n",
       "1        A01006827                    Consejo Consultivo de Andalucía   \n",
       "2        A01006828                   Consejo Audiovisual de Andalucía   \n",
       "3        A01018825  Consejo de Transparencia y Protección de Datos...   \n",
       "4        A01025636  Consejería de Justicia, Administración Local y...   \n",
       "\n",
       "   C_ID_NIVEL_ADMON C_ID_TIPO_ENT_PUBLICA  N_NIVEL_JERARQUICO  \\\n",
       "0                 2                   NaN                   1   \n",
       "1                 2                    CA                   2   \n",
       "2                 2                    CA                   2   \n",
       "3                 2                    CA                   2   \n",
       "4                 2                   NaN                   2   \n",
       "\n",
       "  C_ID_DEP_UD_SUPERIOR    C_DNM_UD_ORGANICA.1 C_ID_DEP_UD_PRINCIPAL  \\\n",
       "0            A99999999  Comunidades Autonomas             A01002820   \n",
       "1            A01002820     Junta de Andalucía             A01002820   \n",
       "2            A01002820     Junta de Andalucía             A01002820   \n",
       "3            A01002820     Junta de Andalucía             A01002820   \n",
       "4            A01002820     Junta de Andalucía             A01002820   \n",
       "\n",
       "  C_DNM_UD_ORGANICA.2 B_SW_DEP_EDP_PRINCIPAL C_ID_DEP_EDP_PRINCIPAL  \\\n",
       "0  Junta de Andalucía                      N                    NaN   \n",
       "1  Junta de Andalucía                      N                    NaN   \n",
       "2  Junta de Andalucía                      N                    NaN   \n",
       "3  Junta de Andalucía                      N                    NaN   \n",
       "4  Junta de Andalucía                      N                    NaN   \n",
       "\n",
       "  C_DNM_UD_ORGANICA.3 C_ID_ESTADO D_VIG_ALTA_OFICIAL    NIF_CIF  \n",
       "0                 NaN           V                NaN  S4111001F  \n",
       "1                 NaN           V           19/04/05  S4111001F  \n",
       "2                 NaN           V                NaN  S4111001F  \n",
       "3                 NaN           V                NaN  S4111001F  \n",
       "4                 NaN           V           22/01/19  S4111001F  "
      ],
      "text/html": [
       "<div>\n",
       "<style scoped>\n",
       "    .dataframe tbody tr th:only-of-type {\n",
       "        vertical-align: middle;\n",
       "    }\n",
       "\n",
       "    .dataframe tbody tr th {\n",
       "        vertical-align: top;\n",
       "    }\n",
       "\n",
       "    .dataframe thead th {\n",
       "        text-align: right;\n",
       "    }\n",
       "</style>\n",
       "<table border=\"1\" class=\"dataframe\">\n",
       "  <thead>\n",
       "    <tr style=\"text-align: right;\">\n",
       "      <th></th>\n",
       "      <th>C_ID_UD_ORGANICA</th>\n",
       "      <th>C_DNM_UD_ORGANICA</th>\n",
       "      <th>C_ID_NIVEL_ADMON</th>\n",
       "      <th>C_ID_TIPO_ENT_PUBLICA</th>\n",
       "      <th>N_NIVEL_JERARQUICO</th>\n",
       "      <th>C_ID_DEP_UD_SUPERIOR</th>\n",
       "      <th>C_DNM_UD_ORGANICA.1</th>\n",
       "      <th>C_ID_DEP_UD_PRINCIPAL</th>\n",
       "      <th>C_DNM_UD_ORGANICA.2</th>\n",
       "      <th>B_SW_DEP_EDP_PRINCIPAL</th>\n",
       "      <th>C_ID_DEP_EDP_PRINCIPAL</th>\n",
       "      <th>C_DNM_UD_ORGANICA.3</th>\n",
       "      <th>C_ID_ESTADO</th>\n",
       "      <th>D_VIG_ALTA_OFICIAL</th>\n",
       "      <th>NIF_CIF</th>\n",
       "    </tr>\n",
       "  </thead>\n",
       "  <tbody>\n",
       "    <tr>\n",
       "      <th>0</th>\n",
       "      <td>A01002820</td>\n",
       "      <td>Junta de Andalucía</td>\n",
       "      <td>2</td>\n",
       "      <td>NaN</td>\n",
       "      <td>1</td>\n",
       "      <td>A99999999</td>\n",
       "      <td>Comunidades Autonomas</td>\n",
       "      <td>A01002820</td>\n",
       "      <td>Junta de Andalucía</td>\n",
       "      <td>N</td>\n",
       "      <td>NaN</td>\n",
       "      <td>NaN</td>\n",
       "      <td>V</td>\n",
       "      <td>NaN</td>\n",
       "      <td>S4111001F</td>\n",
       "    </tr>\n",
       "    <tr>\n",
       "      <th>1</th>\n",
       "      <td>A01006827</td>\n",
       "      <td>Consejo Consultivo de Andalucía</td>\n",
       "      <td>2</td>\n",
       "      <td>CA</td>\n",
       "      <td>2</td>\n",
       "      <td>A01002820</td>\n",
       "      <td>Junta de Andalucía</td>\n",
       "      <td>A01002820</td>\n",
       "      <td>Junta de Andalucía</td>\n",
       "      <td>N</td>\n",
       "      <td>NaN</td>\n",
       "      <td>NaN</td>\n",
       "      <td>V</td>\n",
       "      <td>19/04/05</td>\n",
       "      <td>S4111001F</td>\n",
       "    </tr>\n",
       "    <tr>\n",
       "      <th>2</th>\n",
       "      <td>A01006828</td>\n",
       "      <td>Consejo Audiovisual de Andalucía</td>\n",
       "      <td>2</td>\n",
       "      <td>CA</td>\n",
       "      <td>2</td>\n",
       "      <td>A01002820</td>\n",
       "      <td>Junta de Andalucía</td>\n",
       "      <td>A01002820</td>\n",
       "      <td>Junta de Andalucía</td>\n",
       "      <td>N</td>\n",
       "      <td>NaN</td>\n",
       "      <td>NaN</td>\n",
       "      <td>V</td>\n",
       "      <td>NaN</td>\n",
       "      <td>S4111001F</td>\n",
       "    </tr>\n",
       "    <tr>\n",
       "      <th>3</th>\n",
       "      <td>A01018825</td>\n",
       "      <td>Consejo de Transparencia y Protección de Datos...</td>\n",
       "      <td>2</td>\n",
       "      <td>CA</td>\n",
       "      <td>2</td>\n",
       "      <td>A01002820</td>\n",
       "      <td>Junta de Andalucía</td>\n",
       "      <td>A01002820</td>\n",
       "      <td>Junta de Andalucía</td>\n",
       "      <td>N</td>\n",
       "      <td>NaN</td>\n",
       "      <td>NaN</td>\n",
       "      <td>V</td>\n",
       "      <td>NaN</td>\n",
       "      <td>S4111001F</td>\n",
       "    </tr>\n",
       "    <tr>\n",
       "      <th>4</th>\n",
       "      <td>A01025636</td>\n",
       "      <td>Consejería de Justicia, Administración Local y...</td>\n",
       "      <td>2</td>\n",
       "      <td>NaN</td>\n",
       "      <td>2</td>\n",
       "      <td>A01002820</td>\n",
       "      <td>Junta de Andalucía</td>\n",
       "      <td>A01002820</td>\n",
       "      <td>Junta de Andalucía</td>\n",
       "      <td>N</td>\n",
       "      <td>NaN</td>\n",
       "      <td>NaN</td>\n",
       "      <td>V</td>\n",
       "      <td>22/01/19</td>\n",
       "      <td>S4111001F</td>\n",
       "    </tr>\n",
       "  </tbody>\n",
       "</table>\n",
       "</div>"
      ]
     },
     "execution_count": 10,
     "metadata": {},
     "output_type": "execute_result"
    }
   ],
   "execution_count": 10
  },
  {
   "metadata": {
    "ExecuteTime": {
     "end_time": "2025-03-27T17:20:02.759673Z",
     "start_time": "2025-03-27T17:20:02.749675Z"
    }
   },
   "cell_type": "code",
   "source": [
    "raiz = unidades_dir3[\n",
    "    unidades_dir3.C_DNM_UD_ORGANICA == 'Gerencia de Servicios Sociales de Castilla y León'].C_ID_UD_ORGANICA.tolist()\n",
    "l1 = unidades_dir3[unidades_dir3.C_ID_DEP_UD_SUPERIOR.isin(raiz)].C_ID_UD_ORGANICA.tolist()\n",
    "l2 = unidades_dir3[unidades_dir3.C_ID_DEP_UD_SUPERIOR.isin(l1)].C_ID_UD_ORGANICA.tolist()\n",
    "l3 = unidades_dir3[unidades_dir3.C_ID_DEP_UD_SUPERIOR.isin(l2)].C_ID_UD_ORGANICA.tolist()\n",
    "l4 = unidades_dir3[unidades_dir3.C_ID_DEP_UD_SUPERIOR.isin(l3)].C_ID_UD_ORGANICA.tolist()\n",
    "\n",
    "todos = raiz + l1 + l2 + l3 + l4\n",
    "\n",
    "unidades_gss = unidades_dir3[unidades_dir3.C_ID_UD_ORGANICA.isin(todos)][\n",
    "    ['C_ID_UD_ORGANICA', 'C_DNM_UD_ORGANICA', 'N_NIVEL_JERARQUICO', 'C_ID_DEP_UD_SUPERIOR', 'NIF_CIF',\n",
    "     'C_DNM_UD_ORGANICA.1']]\n"
   ],
   "id": "2bc7b89d527a6921",
   "outputs": [],
   "execution_count": 66
  },
  {
   "metadata": {
    "ExecuteTime": {
     "end_time": "2025-03-27T17:34:34.796303Z",
     "start_time": "2025-03-27T17:34:34.777236Z"
    }
   },
   "cell_type": "code",
   "source": "max(map(len, unidades_gss['C_DNM_UD_ORGANICA.1'].tolist()))",
   "id": "504508910384a6e1",
   "outputs": [
    {
     "data": {
      "text/plain": [
       "92"
      ]
     },
     "execution_count": 94,
     "metadata": {},
     "output_type": "execute_result"
    }
   ],
   "execution_count": 94
  },
  {
   "metadata": {
    "ExecuteTime": {
     "end_time": "2025-03-27T17:22:51.651940Z",
     "start_time": "2025-03-27T17:22:51.646940Z"
    }
   },
   "cell_type": "code",
   "source": "unidades_gss.to_csv('Listado Unidades GSS.csv', encoding='ISO-8859-1', index=False, sep=';')",
   "id": "71b691c6f1a70717",
   "outputs": [],
   "execution_count": 73
  }
 ],
 "metadata": {
  "kernelspec": {
   "display_name": "Python 3",
   "language": "python",
   "name": "python3"
  },
  "language_info": {
   "codemirror_mode": {
    "name": "ipython",
    "version": 2
   },
   "file_extension": ".py",
   "mimetype": "text/x-python",
   "name": "python",
   "nbconvert_exporter": "python",
   "pygments_lexer": "ipython2",
   "version": "2.7.6"
  }
 },
 "nbformat": 4,
 "nbformat_minor": 5
}
